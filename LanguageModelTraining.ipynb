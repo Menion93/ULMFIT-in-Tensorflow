{
 "cells": [
  {
   "cell_type": "code",
   "execution_count": 1,
   "metadata": {},
   "outputs": [
    {
     "name": "stderr",
     "output_type": "stream",
     "text": [
      "C:\\Users\\Andrea\\Anaconda3\\lib\\site-packages\\h5py\\__init__.py:36: FutureWarning: Conversion of the second argument of issubdtype from `float` to `np.floating` is deprecated. In future, it will be treated as `np.float64 == np.dtype(float).type`.\n",
      "  from ._conv import register_converters as _register_converters\n",
      "Using TensorFlow backend.\n"
     ]
    }
   ],
   "source": [
    "import tensorflow as tf\n",
    "import numpy as np\n",
    "\n",
    "from LMNets.models import LanguageModelAWD, LanguageModelMoS\n",
    "from LMNets.losses import lm_loss_sparse\n",
    "from LMNets.logging import log_scalar\n",
    "from LMNets.optimize import minimize_w_clipping\n",
    "from LMNets.data import penn_treebank, wikitext, iterator"
   ]
  },
  {
   "cell_type": "code",
   "execution_count": 2,
   "metadata": {},
   "outputs": [],
   "source": [
    "tf.enable_eager_execution()"
   ]
  },
  {
   "cell_type": "markdown",
   "metadata": {},
   "source": [
    "# Helpers"
   ]
  },
  {
   "cell_type": "code",
   "execution_count": 3,
   "metadata": {},
   "outputs": [],
   "source": [
    "def batch_score(model, x, y, seq_len):\n",
    "    y_, _ =  model.forward(x, seq_len)\n",
    "    return tf.pow(2,tf.losses.sparse_softmax_cross_entropy(y, logits=y_))\n",
    "\n",
    "def compute_score(model, tokens, bs, bptt):\n",
    "    scores = []\n",
    "    for x, y, seq_len in iterator.get_bptt_batch_iterator(tokens, bs, bptt):\n",
    "        scores.append(batch_score(model, x, y, seq_len))\n",
    "    return np.mean(scores)\n",
    "\n",
    "def train(model, train_tokens, val_tokens, vocab, batch_size=32, val_batch_size=32, epochs=1):\n",
    "    summary_writer = tf.contrib.summary.create_file_writer(\"logs\", flush_millis=10000)\n",
    "    summary_writer.set_as_default()\n",
    "    global_step = tf.train.get_or_create_global_step()\n",
    "    \n",
    "    curr_val_score = compute_score(model, val_tokens, val_batch_size, bptt)\n",
    "    iterations = 0\n",
    "\n",
    "    for epoch in range(epochs):\n",
    "        for x, y, seq_len in iterator.get_bptt_batch_iterator(train_tokens, batch_size, bptt):\n",
    "            global_step.assign_add(1)\n",
    "            minimize_w_clipping(optimizer, model, lm_loss_sparse, x, y, seq_len, logging=True, it=iterations, log_every=10)\n",
    "            iterations += 1\n",
    "        \n",
    "        # Compute validation score\n",
    "        score = compute_score(model, val_tokens, val_batch_size, bptt)\n",
    "        log_scalar('val_perplex', score)\n",
    "        print(\"Validation score is {0}\".format(score))\n",
    "\n",
    "        if score < curr_val_score:\n",
    "            curr_val_score = score\n",
    "            model.save_model()"
   ]
  },
  {
   "cell_type": "markdown",
   "metadata": {},
   "source": [
    "# Penn Treebank training"
   ]
  },
  {
   "cell_type": "code",
   "execution_count": null,
   "metadata": {},
   "outputs": [],
   "source": [
    "max_voc = 100000\n",
    "bptt = 10\n",
    "\n",
    "n_epochs = 10"
   ]
  },
  {
   "cell_type": "code",
   "execution_count": null,
   "metadata": {},
   "outputs": [],
   "source": [
    "p_tr_tokens, p_val_tokens, p_test_tokens, p_vocab = penn_treebank.load_data(max_voc)"
   ]
  },
  {
   "cell_type": "code",
   "execution_count": null,
   "metadata": {},
   "outputs": [],
   "source": [
    "voc_size = len(p_vocab)"
   ]
  },
  {
   "cell_type": "code",
   "execution_count": null,
   "metadata": {},
   "outputs": [],
   "source": [
    "awd_model = LanguageModelAWD(voc_size)"
   ]
  },
  {
   "cell_type": "code",
   "execution_count": null,
   "metadata": {},
   "outputs": [],
   "source": [
    "optimizer = tf.train.AdamOptimizer(learning_rate=0.001)"
   ]
  },
  {
   "cell_type": "code",
   "execution_count": null,
   "metadata": {
    "scrolled": true
   },
   "outputs": [],
   "source": [
    "awd_model.restore_model(ckpt='./checkpoint_awd/')"
   ]
  },
  {
   "cell_type": "code",
   "execution_count": null,
   "metadata": {
    "scrolled": true
   },
   "outputs": [],
   "source": [
    "train(awd_model, p_tr_tokens, p_val_tokens, p_vocab, batch_size=256, epochs=100,  val_batch_size=256)"
   ]
  },
  {
   "cell_type": "markdown",
   "metadata": {},
   "source": [
    "# Best Validation Score"
   ]
  },
  {
   "cell_type": "code",
   "execution_count": null,
   "metadata": {},
   "outputs": [],
   "source": [
    "compute_score(awd_model, p_val_tokens, 256, bptt)"
   ]
  },
  {
   "cell_type": "markdown",
   "metadata": {},
   "source": [
    "# Test Score"
   ]
  },
  {
   "cell_type": "code",
   "execution_count": null,
   "metadata": {},
   "outputs": [],
   "source": [
    "compute_score(awd_model, p_test_tokens, 256, bptt)"
   ]
  },
  {
   "cell_type": "markdown",
   "metadata": {},
   "source": [
    "# WikiText Training"
   ]
  },
  {
   "cell_type": "code",
   "execution_count": 4,
   "metadata": {},
   "outputs": [],
   "source": [
    "max_voc = 100000\n",
    "bptt = 10"
   ]
  },
  {
   "cell_type": "code",
   "execution_count": 5,
   "metadata": {},
   "outputs": [],
   "source": [
    "w_tr_tokens, w_val_tokens, w_test_tokens, w_vocab = wikitext.load_data(max_voc)"
   ]
  },
  {
   "cell_type": "code",
   "execution_count": 8,
   "metadata": {},
   "outputs": [],
   "source": [
    "voc_size = len(w_vocab)"
   ]
  },
  {
   "cell_type": "code",
   "execution_count": 9,
   "metadata": {},
   "outputs": [],
   "source": [
    "awd_model = LanguageModelAWD(voc_size)"
   ]
  },
  {
   "cell_type": "code",
   "execution_count": 10,
   "metadata": {},
   "outputs": [],
   "source": [
    "optimizer = tf.train.AdamOptimizer(learning_rate=0.001)"
   ]
  },
  {
   "cell_type": "code",
   "execution_count": 17,
   "metadata": {
    "scrolled": true
   },
   "outputs": [],
   "source": [
    "train(awd_model, w_tr_tokens, w_val_tokens, w_vocab, batch_size=256, epochs=100,  val_batch_size=256)"
   ]
  },
  {
   "cell_type": "code",
   "execution_count": 14,
   "metadata": {},
   "outputs": [],
   "source": [
    "awd_model.save_model()"
   ]
  },
  {
   "cell_type": "code",
   "execution_count": 15,
   "metadata": {},
   "outputs": [
    {
     "data": {
      "text/plain": [
       "167.55423"
      ]
     },
     "execution_count": 15,
     "metadata": {},
     "output_type": "execute_result"
    }
   ],
   "source": [
    "compute_score(awd_model, w_val_tokens, 256, bptt)"
   ]
  },
  {
   "cell_type": "code",
   "execution_count": 16,
   "metadata": {},
   "outputs": [
    {
     "data": {
      "text/plain": [
       "164.8462"
      ]
     },
     "execution_count": 16,
     "metadata": {},
     "output_type": "execute_result"
    }
   ],
   "source": [
    "compute_score(awd_model, w_test_tokens, 256, bptt)"
   ]
  }
 ],
 "metadata": {
  "kernelspec": {
   "display_name": "Tensorflow",
   "language": "python",
   "name": "tensorflow"
  },
  "language_info": {
   "codemirror_mode": {
    "name": "ipython",
    "version": 3
   },
   "file_extension": ".py",
   "mimetype": "text/x-python",
   "name": "python",
   "nbconvert_exporter": "python",
   "pygments_lexer": "ipython3",
   "version": "3.6.5"
  }
 },
 "nbformat": 4,
 "nbformat_minor": 2
}
